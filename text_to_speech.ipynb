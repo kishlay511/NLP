{
 "cells": [
  {
   "cell_type": "code",
   "execution_count": 1,
   "id": "38bc4565",
   "metadata": {},
   "outputs": [
    {
     "data": {
      "text/plain": [
       "'C:\\\\Users\\\\user\\\\OneDrive\\\\Desktop\\\\NLP'"
      ]
     },
     "execution_count": 1,
     "metadata": {},
     "output_type": "execute_result"
    }
   ],
   "source": [
    "import os\n",
    "os.getcwd()"
   ]
  },
  {
   "cell_type": "code",
   "execution_count": 2,
   "id": "d1467908",
   "metadata": {},
   "outputs": [
    {
     "name": "stdout",
     "output_type": "stream",
     "text": [
      "Requirement already satisfied: gTTS in c:\\users\\user\\anaconda3\\lib\\site-packages (2.3.0)\n",
      "Requirement already satisfied: requests~=2.28.0 in c:\\users\\user\\anaconda3\\lib\\site-packages (from gTTS) (2.28.1)\n",
      "Requirement already satisfied: click~=8.1.3 in c:\\users\\user\\anaconda3\\lib\\site-packages (from gTTS) (8.1.3)\n",
      "Requirement already satisfied: six~=1.16.0 in c:\\users\\user\\anaconda3\\lib\\site-packages (from gTTS) (1.16.0)\n",
      "Requirement already satisfied: colorama in c:\\users\\user\\anaconda3\\lib\\site-packages (from click~=8.1.3->gTTS) (0.4.4)\n",
      "Requirement already satisfied: urllib3<1.27,>=1.21.1 in c:\\users\\user\\anaconda3\\lib\\site-packages (from requests~=2.28.0->gTTS) (1.26.7)\n",
      "Requirement already satisfied: charset-normalizer<3,>=2 in c:\\users\\user\\anaconda3\\lib\\site-packages (from requests~=2.28.0->gTTS) (2.0.4)\n",
      "Requirement already satisfied: certifi>=2017.4.17 in c:\\users\\user\\anaconda3\\lib\\site-packages (from requests~=2.28.0->gTTS) (2021.10.8)\n",
      "Requirement already satisfied: idna<4,>=2.5 in c:\\users\\user\\anaconda3\\lib\\site-packages (from requests~=2.28.0->gTTS) (3.2)\n"
     ]
    }
   ],
   "source": [
    "!pip install gTTS"
   ]
  },
  {
   "cell_type": "code",
   "execution_count": 3,
   "id": "1cc4a37f",
   "metadata": {},
   "outputs": [],
   "source": [
    "from gtts import gTTS"
   ]
  },
  {
   "cell_type": "code",
   "execution_count": 4,
   "id": "0a1981b8",
   "metadata": {},
   "outputs": [
    {
     "name": "stdout",
     "output_type": "stream",
     "text": [
      "Enter your paragraph here: \n",
      ">On the eternally rough road of India-Pakistan ties, any offer of talks, like the one made by Pakistan Prime Minister Shehbaz Sharif last week, is cause for equal measure of excitement and cynicism. His words, in an interview to a United Arab Emirates (UAE) channel, that Pakistan “had learnt a lesson from three wars” with India and wants to “live in peace with India provided we are able to resolve our genuine problems” including “burning points like Kashmir” were seen in New Delhi more as him clutching at straws, at a time when his country is in turmoil. Politically, Mr. Sharif has to face elections later this year, and continues to be challenged by the opposition led by former leader Imran Khan. Economically, Pakistan is in imminent danger of a debt default, and is being held together by assurances of support from the UAE, Saudi Arabia and China, as well as hopes that its IMF bailout package will come through with the adoption of more austerity measures. Pakistan also faces a growing terror threat from its Afghan border, where despite having a friendly regime in control, there are clashes particularly with Tehreek-e-Taliban Pakistan fighters. Even so, Mr. Sharif’s peaceable words, coming a month after a crossing of swords at the United Nations, indicate that there is an understanding that India\n"
     ]
    }
   ],
   "source": [
    "paragraph = input(\"Enter your paragraph here: \\n>\")"
   ]
  },
  {
   "cell_type": "code",
   "execution_count": 6,
   "id": "a6990f98",
   "metadata": {},
   "outputs": [],
   "source": [
    "Sentence = gTTS(text = paragraph, lang ='en', slow = False)"
   ]
  },
  {
   "cell_type": "code",
   "execution_count": 7,
   "id": "8524c27a",
   "metadata": {},
   "outputs": [],
   "source": [
    "Sentence.save('English.mp3')"
   ]
  }
 ],
 "metadata": {
  "kernelspec": {
   "display_name": "Python 3 (ipykernel)",
   "language": "python",
   "name": "python3"
  },
  "language_info": {
   "codemirror_mode": {
    "name": "ipython",
    "version": 3
   },
   "file_extension": ".py",
   "mimetype": "text/x-python",
   "name": "python",
   "nbconvert_exporter": "python",
   "pygments_lexer": "ipython3",
   "version": "3.9.7"
  }
 },
 "nbformat": 4,
 "nbformat_minor": 5
}
