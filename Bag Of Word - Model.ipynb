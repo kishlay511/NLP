{
 "cells": [
  {
   "cell_type": "code",
   "execution_count": 1,
   "id": "20ab4e1c",
   "metadata": {},
   "outputs": [],
   "source": [
    "import nltk"
   ]
  },
  {
   "cell_type": "code",
   "execution_count": 2,
   "id": "da9d08bc",
   "metadata": {},
   "outputs": [],
   "source": [
    "my_review = 'The Bharat Jodo Yatra ended ironically with a divisive public rant against “outsiders” doing business in J&K. This lack of understanding of India’s Constitution (there are no outsiders within our borders) and lack of appreciation for the hard-fought recent gains to integrate J&K — India’s Constitution fully applies there only since 2019 — makes us nostalgic for the time when President Giani Zail Singh openly wept at Srinagar in 1982 after Sheikh Abdullah’s death. “I have lost my leader,” he said. Gianiji was referring to Sheikh Sahib’s presidentship of the All India State Peoples’ Conference that agitated against the undemocratic royalty allied with the undemocratic British. Since Sheikh Sahib’s considerable legacy is being diminished by his party let’s take a closer look at his nationalism, pragmatism, and imperfections, as we imagine a Naya Kashmir.'"
   ]
  },
  {
   "cell_type": "code",
   "execution_count": 3,
   "id": "8b446dd8",
   "metadata": {},
   "outputs": [],
   "source": [
    "from nltk.stem import PorterStemmer"
   ]
  },
  {
   "cell_type": "code",
   "execution_count": 4,
   "id": "65681f00",
   "metadata": {},
   "outputs": [],
   "source": [
    "from nltk.corpus import stopwords"
   ]
  },
  {
   "cell_type": "code",
   "execution_count": 5,
   "id": "2f21971e",
   "metadata": {},
   "outputs": [],
   "source": [
    "sentence = nltk.sent_tokenize(my_review)"
   ]
  },
  {
   "cell_type": "code",
   "execution_count": 6,
   "id": "1843d6af",
   "metadata": {},
   "outputs": [],
   "source": [
    "stemmer = PorterStemmer()"
   ]
  },
  {
   "cell_type": "code",
   "execution_count": 7,
   "id": "bb687c20",
   "metadata": {},
   "outputs": [],
   "source": [
    "for i in range(len(sentence)):\n",
    "    words = nltk.word_tokenize(sentence[i])\n",
    "    words = [stemmer.stem(word) for word in words if word not in set(stopwords.words('english'))]\n",
    "    sentence[i] = ' '.join(words)"
   ]
  },
  {
   "cell_type": "code",
   "execution_count": 8,
   "id": "3209d1f6",
   "metadata": {},
   "outputs": [
    {
     "data": {
      "text/plain": [
       "['the bharat jodo yatra end iron divis public rant “ outsid ” busi j & k .',\n",
       " 'thi lack understand india ’ constitut ( outsid within border ) lack appreci hard-fought recent gain integr j & k — india ’ constitut fulli appli sinc 2019 — make us nostalg time presid giani zail singh openli wept srinagar 1982 sheikh abdullah ’ death .',\n",
       " '“ i lost leader , ” said .',\n",
       " 'gianiji refer sheikh sahib ’ presidentship all india state peopl ’ confer agit undemocrat royalti alli undemocrat british .',\n",
       " 'sinc sheikh sahib ’ consider legaci diminish parti let ’ take closer look nation , pragmat , imperfect , imagin naya kashmir .']"
      ]
     },
     "execution_count": 8,
     "metadata": {},
     "output_type": "execute_result"
    }
   ],
   "source": [
    "sentence"
   ]
  },
  {
   "cell_type": "markdown",
   "id": "624453b8",
   "metadata": {},
   "source": [
    "# Lemmitization"
   ]
  },
  {
   "cell_type": "code",
   "execution_count": 9,
   "id": "50be2f53",
   "metadata": {},
   "outputs": [],
   "source": [
    "from nltk.stem import WordNetLemmatizer"
   ]
  },
  {
   "cell_type": "code",
   "execution_count": 10,
   "id": "4666d17d",
   "metadata": {},
   "outputs": [],
   "source": [
    "sentence1 = nltk.sent_tokenize(my_review)\n",
    "lemmatizer = WordNetLemmatizer()"
   ]
  },
  {
   "cell_type": "code",
   "execution_count": 11,
   "id": "c1859c25",
   "metadata": {},
   "outputs": [],
   "source": [
    "for i in range(len(sentence1)):\n",
    "    words = nltk.word_tokenize(sentence1[i])\n",
    "    words = [lemmatizer.lemmatize(word) for word in words if word not in set\n",
    "                                 (stopwords.words('english'))]\n",
    "    sentence1[i] = ' '.join(words)"
   ]
  },
  {
   "cell_type": "code",
   "execution_count": 12,
   "id": "c5aa19ed",
   "metadata": {},
   "outputs": [
    {
     "data": {
      "text/plain": [
       "['The Bharat Jodo Yatra ended ironically divisive public rant “ outsider ” business J & K .',\n",
       " 'This lack understanding India ’ Constitution ( outsider within border ) lack appreciation hard-fought recent gain integrate J & K — India ’ Constitution fully applies since 2019 — make u nostalgic time President Giani Zail Singh openly wept Srinagar 1982 Sheikh Abdullah ’ death .',\n",
       " '“ I lost leader , ” said .',\n",
       " 'Gianiji referring Sheikh Sahib ’ presidentship All India State Peoples ’ Conference agitated undemocratic royalty allied undemocratic British .',\n",
       " 'Since Sheikh Sahib ’ considerable legacy diminished party let ’ take closer look nationalism , pragmatism , imperfection , imagine Naya Kashmir .']"
      ]
     },
     "execution_count": 12,
     "metadata": {},
     "output_type": "execute_result"
    }
   ],
   "source": [
    "sentence1"
   ]
  },
  {
   "cell_type": "markdown",
   "id": "a3c95c37",
   "metadata": {},
   "source": [
    "# Bag Of Words: \n",
    "it is a bag in which all the words of corpus are arranged in vector. For each sentence of the word binary value is assigned. From the assigned value    "
   ]
  },
  {
   "cell_type": "code",
   "execution_count": 13,
   "id": "712b6b40",
   "metadata": {},
   "outputs": [],
   "source": [
    "import re "
   ]
  },
  {
   "cell_type": "code",
   "execution_count": 16,
   "id": "7b5545bc",
   "metadata": {},
   "outputs": [],
   "source": [
    "ps = PorterStemmer()\n",
    "wordnet = WordNetLemmatizer()\n",
    "sentence = nltk.sent_tokenize(my_review)\n",
    "corpus = []\n",
    "\n",
    "for i in range(len(sentence)):\n",
    "    review = re.sub('[^a-zA-Z]', ' ', sentence[i])\n",
    "    review = review.lower()\n",
    "    review = review.split()\n",
    "    review = [ps.stem(word) for word in review if not word in set\n",
    "             (stopwords.words('english'))]\n",
    "    review = ' '.join(review)\n",
    "    corpus.append(review)\n",
    "    "
   ]
  },
  {
   "cell_type": "code",
   "execution_count": 17,
   "id": "73264162",
   "metadata": {},
   "outputs": [
    {
     "data": {
      "text/plain": [
       "['bharat jodo yatra end iron divis public rant outsid busi j k',\n",
       " 'lack understand india constitut outsid within border lack appreci hard fought recent gain integr j k india constitut fulli appli sinc make us nostalg time presid giani zail singh openli wept srinagar sheikh abdullah death',\n",
       " 'lost leader said',\n",
       " 'gianiji refer sheikh sahib presidentship india state peopl confer agit undemocrat royalti alli undemocrat british',\n",
       " 'sinc sheikh sahib consider legaci diminish parti let take closer look nation pragmat imperfect imagin naya kashmir']"
      ]
     },
     "execution_count": 17,
     "metadata": {},
     "output_type": "execute_result"
    }
   ],
   "source": [
    "corpus"
   ]
  },
  {
   "cell_type": "markdown",
   "id": "bd586ec7",
   "metadata": {},
   "source": [
    "# Model Building "
   ]
  },
  {
   "cell_type": "code",
   "execution_count": 21,
   "id": "b95f33d0",
   "metadata": {},
   "outputs": [],
   "source": [
    "from sklearn.feature_extraction.text import CountVectorizer\n",
    "cv = CountVectorizer(max_features=500)\n",
    "x = cv.fit_transform(corpus).toarray()"
   ]
  },
  {
   "cell_type": "code",
   "execution_count": 22,
   "id": "2265b553",
   "metadata": {},
   "outputs": [
    {
     "data": {
      "text/plain": [
       "array([[0, 0, 0, 0, 0, 1, 0, 0, 1, 0, 0, 0, 0, 0, 0, 1, 1, 0, 0, 0, 0, 0,\n",
       "        0, 0, 0, 0, 0, 1, 1, 0, 0, 0, 0, 0, 0, 0, 0, 0, 0, 0, 0, 1, 0, 0,\n",
       "        0, 0, 0, 1, 1, 0, 0, 0, 0, 0, 0, 0, 0, 0, 0, 0, 0, 0, 0, 0, 0, 0,\n",
       "        1, 0],\n",
       "       [1, 0, 0, 1, 1, 0, 1, 0, 0, 0, 0, 0, 2, 1, 0, 0, 0, 1, 1, 1, 1, 0,\n",
       "        1, 0, 0, 2, 1, 0, 0, 0, 2, 0, 0, 0, 0, 0, 1, 0, 0, 1, 1, 1, 0, 0,\n",
       "        0, 1, 0, 0, 0, 1, 0, 0, 0, 0, 1, 1, 1, 1, 0, 0, 1, 0, 1, 1, 1, 1,\n",
       "        0, 1],\n",
       "       [0, 0, 0, 0, 0, 0, 0, 0, 0, 0, 0, 0, 0, 0, 0, 0, 0, 0, 0, 0, 0, 0,\n",
       "        0, 0, 0, 0, 0, 0, 0, 0, 0, 1, 0, 0, 0, 1, 0, 0, 0, 0, 0, 0, 0, 0,\n",
       "        0, 0, 0, 0, 0, 0, 0, 0, 0, 1, 0, 0, 0, 0, 0, 0, 0, 0, 0, 0, 0, 0,\n",
       "        0, 0],\n",
       "       [0, 1, 1, 0, 0, 0, 0, 1, 0, 0, 1, 0, 0, 0, 0, 0, 0, 0, 0, 0, 0, 1,\n",
       "        0, 0, 0, 1, 0, 0, 0, 0, 0, 0, 0, 0, 0, 0, 0, 0, 0, 0, 0, 0, 0, 1,\n",
       "        0, 0, 1, 0, 0, 0, 1, 1, 1, 0, 1, 0, 0, 0, 1, 0, 0, 2, 0, 0, 0, 0,\n",
       "        0, 0],\n",
       "       [0, 0, 0, 0, 0, 0, 0, 0, 0, 1, 0, 1, 0, 0, 1, 0, 0, 0, 0, 0, 0, 0,\n",
       "        0, 1, 1, 0, 0, 0, 0, 1, 0, 0, 1, 1, 1, 0, 0, 1, 1, 0, 0, 0, 1, 0,\n",
       "        1, 0, 0, 0, 0, 0, 0, 0, 1, 0, 1, 1, 0, 0, 0, 1, 0, 0, 0, 0, 0, 0,\n",
       "        0, 0]], dtype=int64)"
      ]
     },
     "execution_count": 22,
     "metadata": {},
     "output_type": "execute_result"
    }
   ],
   "source": [
    "x"
   ]
  },
  {
   "cell_type": "code",
   "execution_count": null,
   "id": "ba128604",
   "metadata": {},
   "outputs": [],
   "source": []
  },
  {
   "cell_type": "code",
   "execution_count": null,
   "id": "15cbbc1f",
   "metadata": {},
   "outputs": [],
   "source": []
  },
  {
   "cell_type": "code",
   "execution_count": null,
   "id": "2e8aeb6d",
   "metadata": {},
   "outputs": [],
   "source": []
  },
  {
   "cell_type": "code",
   "execution_count": null,
   "id": "5784b720",
   "metadata": {},
   "outputs": [],
   "source": []
  },
  {
   "cell_type": "code",
   "execution_count": null,
   "id": "d9523c43",
   "metadata": {},
   "outputs": [],
   "source": []
  },
  {
   "cell_type": "code",
   "execution_count": null,
   "id": "944b7a81",
   "metadata": {},
   "outputs": [],
   "source": []
  },
  {
   "cell_type": "code",
   "execution_count": null,
   "id": "0065fe52",
   "metadata": {},
   "outputs": [],
   "source": []
  },
  {
   "cell_type": "code",
   "execution_count": null,
   "id": "d69f0cd9",
   "metadata": {},
   "outputs": [],
   "source": []
  },
  {
   "cell_type": "code",
   "execution_count": null,
   "id": "b4a741eb",
   "metadata": {},
   "outputs": [],
   "source": []
  },
  {
   "cell_type": "code",
   "execution_count": null,
   "id": "4b0fd805",
   "metadata": {},
   "outputs": [],
   "source": []
  },
  {
   "cell_type": "code",
   "execution_count": null,
   "id": "63ecd69f",
   "metadata": {},
   "outputs": [],
   "source": []
  },
  {
   "cell_type": "code",
   "execution_count": null,
   "id": "6a4ca27b",
   "metadata": {},
   "outputs": [],
   "source": []
  }
 ],
 "metadata": {
  "kernelspec": {
   "display_name": "Python 3 (ipykernel)",
   "language": "python",
   "name": "python3"
  },
  "language_info": {
   "codemirror_mode": {
    "name": "ipython",
    "version": 3
   },
   "file_extension": ".py",
   "mimetype": "text/x-python",
   "name": "python",
   "nbconvert_exporter": "python",
   "pygments_lexer": "ipython3",
   "version": "3.9.7"
  }
 },
 "nbformat": 4,
 "nbformat_minor": 5
}
